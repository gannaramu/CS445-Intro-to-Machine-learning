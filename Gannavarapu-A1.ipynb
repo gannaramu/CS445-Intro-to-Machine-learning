{
 "cells": [
  {
   "cell_type": "markdown",
   "metadata": {},
   "source": [
    "# A1.1 Linear Regression with SGD"
   ]
  },
  {
   "cell_type": "markdown",
   "metadata": {},
   "source": [
    "* A1.1: *Added preliminary grading script in last cells of notebook.*"
   ]
  },
  {
   "cell_type": "markdown",
   "metadata": {},
   "source": [
    "In this assignment, you will implement three functions `train`, `use`, and `rmse` and apply them to some weather data.\n",
    "Here are the specifications for these functions, which you must satisfy."
   ]
  },
  {
   "cell_type": "markdown",
   "metadata": {},
   "source": [
    "`model = train(X, T, learning_rate, n_epochs, verbose)`\n",
    "* `X`: is an $N$ x $D$ matrix of input data samples, one per row. $N$ is the number of samples and $D$ is the number of variable values in\n",
    "each sample.\n",
    "* `T`: is an $N$ x $K$ matrix of desired target values for each sample.  $K$ is the number of output values you want to predict for each sample.\n",
    "* `learning_rate`: is a scalar that controls the step size of each update to the weight values.\n",
    "* `n_epochs`: is the number of epochs, or passes, through all $N$ samples, to take while updating the weight values.\n",
    "* `verbose`: is True or False (default value) to control whether or not occasional text is printed to show the training progress.\n",
    "* `model`: is the returned value, which must be a dictionary with the keys `'w'`, `'Xmeans'`, `'Xstds'`, `'Tmeans'` and `'Tstds'`.\n",
    "\n",
    "`Y = use(X, model)`\n",
    "* `X`: is an $N$ x $D$ matrix of input data samples, one per row, for which you want to predict the target values.\n",
    "* `model`: is the dictionary returned by `train`.\n",
    "* `Y`: is the returned $N$ x $K$ matrix of predicted values, one for each sample in `X`.\n",
    "\n",
    "`result = rmse(Y, T)`\n",
    "* `Y`: is an $N$ x $K$ matrix of predictions produced by `use`.\n",
    "* `T`: is the $N$ x $K$ matrix of target values.\n",
    "* `result`: is a scalar calculated as the square root of the mean of the squared differences between each sample (row) in `Y` and `T`."
   ]
  },
  {
   "cell_type": "markdown",
   "metadata": {},
   "source": [
    "To get you started, here are the standard imports we need."
   ]
  },
  {
   "cell_type": "code",
   "execution_count": 178,
   "metadata": {
    "lines_to_next_cell": 1
   },
   "outputs": [],
   "source": [
    "import numpy as np\n",
    "import matplotlib.pyplot as plt\n",
    "import pandas"
   ]
  },
  {
   "cell_type": "markdown",
   "metadata": {},
   "source": [
    "## 60 points: 40 for train, 10 for use, 10 for rmse"
   ]
  },
  {
   "cell_type": "markdown",
   "metadata": {},
   "source": [
    "Now here is a start at defining the `train`, `use`, and `rmse`\n",
    "functions.  Fill in the correct code wherever you see `. . .` with\n",
    "one or more lines of code."
   ]
  },
  {
   "cell_type": "code",
   "execution_count": 179,
   "metadata": {
    "lines_to_next_cell": 1
   },
   "outputs": [],
   "source": [
    "def train(X, T, learning_rate, n_epochs, verbose=False):\n",
    "    \n",
    "      # number of rows in data equals the number of samples\n",
    "\n",
    "    # Calculate means and standard deviations of each column in X and T\n",
    "    Xmeans = np.mean(X, axis=0)\n",
    "    Xstds = np.std(X, axis=0)\n",
    "    \n",
    "    Tmeans = np.mean(T, axis=0)\n",
    "    Tstds = np.std(T, axis=0)\n",
    "    \n",
    "    # Use the means and standard deviations to standardize X and T\n",
    "    X = (X - Xmeans) / Xstds\n",
    "    np.mean(X, axis=0), np.std(X, axis=0)\n",
    "    T = (T - Tmeans) / Tstds\n",
    "    np.mean(T, axis=0), np.std(T, axis=0)\n",
    "    \n",
    "    # Insert the column of constant 1's as a new initial column in X\n",
    "    X = np.insert(X, 0, 1, 1)\n",
    "    \n",
    "    #X.shape, X1.shape\n",
    "    n_samples, n_inputs = X.shape\n",
    "    \n",
    "    # Initialize weights to be a numpy array of the correct shape and all zeros values.\n",
    "    w = np.zeros((n_inputs, 1)) \n",
    "\n",
    "    for epoch in range(n_epochs):\n",
    "        sqerror_sum = 0\n",
    "\n",
    "        for n in range(n_samples):\n",
    "\n",
    "            # Use current weight values to predict output for sample n, then\n",
    "            # calculate the error, and\n",
    "            # update the weight values.\n",
    "            y = X[n:n + 1, :] @ w      # predicted value, y, for sample n\n",
    "            error = T[n:n + 1, :] - y  \n",
    "            # update weights by fraction of negative derivative of square error with respect to weights\n",
    "            w += learning_rate * X[n:n + 1, :].T * error\n",
    "            # Add the squared error to sqerror_sum\n",
    "            sqerror_sum += error ** 2\n",
    "\n",
    "        if verbose and (n_epochs < 11 or (epoch + 1) % (n_epochs // 10) == 0):\n",
    "            #rmse = np.sqrt(sqerror_sum / n_samples)\n",
    "            #rmse = rmse[0, 0]  # because rmse is 1x1 matrix\n",
    "            Y = X @ w\n",
    "            ER = rmse(T,Y)\n",
    "            print(f'Epoch {epoch + 1} RMSE {ER:.2f}')\n",
    "\n",
    "    return {'w': w, 'Xmeans': Xmeans, 'Xstds': Xstds,\n",
    "            'Tmeans': Tmeans, 'Tstds': Tstds}"
   ]
  },
  {
   "cell_type": "code",
   "execution_count": 180,
   "metadata": {
    "lines_to_next_cell": 1
   },
   "outputs": [],
   "source": [
    "def use(X, model):\n",
    "    # Standardize X using Xmeans and Xstds in model\n",
    "    X = (X - model['Xmeans']) / model['Xstds']\n",
    "    # Predict output values using weights in model\n",
    "    w = model['w']\n",
    "    X = np.insert(X, 0, 1, 1)\n",
    "    out = X @ w\n",
    "    # Unstandardize the predicted output values using Tmeans and Tstds in model\n",
    "    # Predict output values using weights in model\n",
    "    # Return the unstandardized output values\n",
    "    out = (out*model['Tstds']) + model['Tmeans']\n",
    "    return out"
   ]
  },
  {
   "cell_type": "code",
   "execution_count": 181,
   "metadata": {
    "lines_to_next_cell": 1
   },
   "outputs": [],
   "source": [
    "def rmse(A, B):\n",
    "    out = np.sqrt(np.sum((A - B)**2)/A.shape[0]) \n",
    "    return out\n",
    "#np.sqrt(np.sum((T-Y)**2)/Y.shape[0]), Y.shape[0]\n",
    "\n"
   ]
  },
  {
   "cell_type": "markdown",
   "metadata": {},
   "source": [
    "Here is a simple example use of your functions to help you debug them.  Your functions must produce the same results."
   ]
  },
  {
   "cell_type": "code",
   "execution_count": 182,
   "metadata": {},
   "outputs": [
    {
     "data": {
      "image/png": "[encoded data removed]",
      "text/plain": [
       "<Figure size 432x288 with 1 Axes>"
      ]
     },
     "metadata": {
      "needs_background": "light"
     },
     "output_type": "display_data"
    }
   ],
   "source": [
    "X = np.arange(0, 100).reshape(-1, 1)  # make X a 100 x 1 matrix\n",
    "T = 0.5 + 0.3 * X + 0.005 * (X - 50) ** 2\n",
    "plt.plot(X, T, '.')\n",
    "plt.xlabel('X')\n",
    "plt.ylabel('T');"
   ]
  },
  {
   "cell_type": "code",
   "execution_count": 183,
   "metadata": {},
   "outputs": [
    {
     "name": "stdout",
     "output_type": "stream",
     "text": [
      "Epoch 5 RMSE 0.68\n",
      "Epoch 10 RMSE 0.52\n",
      "Epoch 15 RMSE 0.44\n",
      "Epoch 20 RMSE 0.42\n",
      "Epoch 25 RMSE 0.41\n",
      "Epoch 30 RMSE 0.40\n",
      "Epoch 35 RMSE 0.40\n",
      "Epoch 40 RMSE 0.40\n",
      "Epoch 45 RMSE 0.40\n",
      "Epoch 50 RMSE 0.40\n"
     ]
    },
    {
     "data": {
      "text/plain": [
       "{'w': array([[4.62267158e-04],\n",
       "        [9.23968364e-01]]),\n",
       " 'Xmeans': array([49.5]),\n",
       " 'Xstds': array([28.86607005]),\n",
       " 'Tmeans': array([19.5175]),\n",
       " 'Tstds': array([9.29491938])}"
      ]
     },
     "execution_count": 183,
     "metadata": {},
     "output_type": "execute_result"
    }
   ],
   "source": [
    "model = train(X, T, 0.001, 50, verbose=True)\n",
    "model"
   ]
  },
  {
   "cell_type": "code",
   "execution_count": 184,
   "metadata": {},
   "outputs": [
    {
     "data": {
      "text/plain": [
       "<matplotlib.legend.Legend at 0x29f50d2ff28>"
      ]
     },
     "execution_count": 184,
     "metadata": {},
     "output_type": "execute_result"
    },
    {
     "data": {
      "image/png": "[encoded data removed]",
      "text/plain": [
       "<Figure size 432x288 with 1 Axes>"
      ]
     },
     "metadata": {
      "needs_background": "light"
     },
     "output_type": "display_data"
    }
   ],
   "source": [
    "Y = use(X, model)\n",
    "plt.plot(T, '.', label='T')\n",
    "plt.plot(Y, '.', label='Y')\n",
    "plt.legend()"
   ]
  },
  {
   "cell_type": "code",
   "execution_count": 185,
   "metadata": {},
   "outputs": [
    {
     "data": {
      "text/plain": [
       "[<matplotlib.lines.Line2D at 0x29f4f3464a8>]"
      ]
     },
     "execution_count": 185,
     "metadata": {},
     "output_type": "execute_result"
    },
    {
     "data": {
      "image/png": "[encoded data removed]",
      "text/plain": [
       "<Figure size 432x288 with 1 Axes>"
      ]
     },
     "metadata": {
      "needs_background": "light"
     },
     "output_type": "display_data"
    }
   ],
   "source": [
    "plt.plot(Y[:, 0], T[:, 0], 'o')\n",
    "plt.xlabel('Predicted')\n",
    "plt.ylabel('Actual')\n",
    "a = max(min(Y[:, 0]), min(T[:, 0]))\n",
    "b = min(max(Y[:, 0]), max(T[:, 0]))\n",
    "plt.plot([a, b], [a, b], 'r', linewidth=3)"
   ]
  },
  {
   "cell_type": "markdown",
   "metadata": {},
   "source": [
    "## Weather Data"
   ]
  },
  {
   "cell_type": "markdown",
   "metadata": {},
   "source": [
    "Now that your functions are working, we can apply them to some real data. We will use data\n",
    "from  [CSU's CoAgMet Station Daily Data Access](http://coagmet.colostate.edu/cgi-bin/dailydata_form.pl).\n",
    "\n",
    "You can get the data file [here](http://www.cs.colostate.edu/~anderson/cs445/notebooks/weather.data)"
   ]
  },
  {
   "cell_type": "markdown",
   "metadata": {},
   "source": [
    "## 5 points:\n",
    "\n",
    "Read in the data into variable `df` using `pandas.read_csv` like we did in lecture notes.\n",
    "Missing values in this dataset are indicated by the string `'***'`."
   ]
  },
  {
   "cell_type": "code",
   "execution_count": 186,
   "metadata": {},
   "outputs": [
    {
     "data": {
      "text/html": [
       "<div>\n",
       "<style scoped>\n",
       "    .dataframe tbody tr th:only-of-type {\n",
       "        vertical-align: middle;\n",
       "    }\n",
       "\n",
       "    .dataframe tbody tr th {\n",
       "        vertical-align: top;\n",
       "    }\n",
       "\n",
       "    .dataframe thead th {\n",
       "        text-align: right;\n",
       "    }\n",
       "</style>\n",
       "<table border=\"1\" class=\"dataframe\">\n",
       "  <thead>\n",
       "    <tr style=\"text-align: right;\">\n",
       "      <th></th>\n",
       "      <th>Year</th>\n",
       "      <th>Mo</th>\n",
       "      <th>Dy</th>\n",
       "      <th>tave</th>\n",
       "      <th>tmax</th>\n",
       "      <th>tmin</th>\n",
       "      <th>vp</th>\n",
       "      <th>rhmax</th>\n",
       "      <th>rhmin</th>\n",
       "      <th>pp</th>\n",
       "      <th>gust</th>\n",
       "    </tr>\n",
       "  </thead>\n",
       "  <tbody>\n",
       "    <tr>\n",
       "      <th>0</th>\n",
       "      <td>2000</td>\n",
       "      <td>1</td>\n",
       "      <td>1</td>\n",
       "      <td>3.477</td>\n",
       "      <td>11.858</td>\n",
       "      <td>-4.905</td>\n",
       "      <td>0.331</td>\n",
       "      <td>0.614</td>\n",
       "      <td>0.233</td>\n",
       "      <td>0.00</td>\n",
       "      <td>8.252</td>\n",
       "    </tr>\n",
       "    <tr>\n",
       "      <th>1</th>\n",
       "      <td>2000</td>\n",
       "      <td>1</td>\n",
       "      <td>2</td>\n",
       "      <td>0.363</td>\n",
       "      <td>6.415</td>\n",
       "      <td>-5.690</td>\n",
       "      <td>0.396</td>\n",
       "      <td>0.872</td>\n",
       "      <td>0.392</td>\n",
       "      <td>0.00</td>\n",
       "      <td>8.742</td>\n",
       "    </tr>\n",
       "    <tr>\n",
       "      <th>2</th>\n",
       "      <td>2000</td>\n",
       "      <td>1</td>\n",
       "      <td>3</td>\n",
       "      <td>-4.448</td>\n",
       "      <td>1.153</td>\n",
       "      <td>-10.049</td>\n",
       "      <td>0.185</td>\n",
       "      <td>0.573</td>\n",
       "      <td>0.274</td>\n",
       "      <td>0.00</td>\n",
       "      <td>10.741</td>\n",
       "    </tr>\n",
       "    <tr>\n",
       "      <th>3</th>\n",
       "      <td>2000</td>\n",
       "      <td>1</td>\n",
       "      <td>4</td>\n",
       "      <td>-2.465</td>\n",
       "      <td>6.562</td>\n",
       "      <td>-11.493</td>\n",
       "      <td>0.245</td>\n",
       "      <td>0.710</td>\n",
       "      <td>0.254</td>\n",
       "      <td>0.00</td>\n",
       "      <td>4.116</td>\n",
       "    </tr>\n",
       "    <tr>\n",
       "      <th>4</th>\n",
       "      <td>2000</td>\n",
       "      <td>1</td>\n",
       "      <td>5</td>\n",
       "      <td>1.558</td>\n",
       "      <td>6.723</td>\n",
       "      <td>-3.608</td>\n",
       "      <td>0.228</td>\n",
       "      <td>0.540</td>\n",
       "      <td>0.132</td>\n",
       "      <td>0.00</td>\n",
       "      <td>15.974</td>\n",
       "    </tr>\n",
       "    <tr>\n",
       "      <th>5</th>\n",
       "      <td>2000</td>\n",
       "      <td>1</td>\n",
       "      <td>6</td>\n",
       "      <td>-3.041</td>\n",
       "      <td>4.760</td>\n",
       "      <td>-10.842</td>\n",
       "      <td>0.195</td>\n",
       "      <td>0.649</td>\n",
       "      <td>0.152</td>\n",
       "      <td>0.00</td>\n",
       "      <td>6.468</td>\n",
       "    </tr>\n",
       "    <tr>\n",
       "      <th>6</th>\n",
       "      <td>2000</td>\n",
       "      <td>1</td>\n",
       "      <td>7</td>\n",
       "      <td>-3.142</td>\n",
       "      <td>3.954</td>\n",
       "      <td>-10.238</td>\n",
       "      <td>0.249</td>\n",
       "      <td>0.709</td>\n",
       "      <td>0.321</td>\n",
       "      <td>0.00</td>\n",
       "      <td>7.115</td>\n",
       "    </tr>\n",
       "    <tr>\n",
       "      <th>7</th>\n",
       "      <td>2000</td>\n",
       "      <td>1</td>\n",
       "      <td>8</td>\n",
       "      <td>-0.511</td>\n",
       "      <td>8.015</td>\n",
       "      <td>-9.036</td>\n",
       "      <td>0.295</td>\n",
       "      <td>0.785</td>\n",
       "      <td>0.220</td>\n",
       "      <td>0.00</td>\n",
       "      <td>13.387</td>\n",
       "    </tr>\n",
       "    <tr>\n",
       "      <th>8</th>\n",
       "      <td>2000</td>\n",
       "      <td>1</td>\n",
       "      <td>9</td>\n",
       "      <td>3.529</td>\n",
       "      <td>7.330</td>\n",
       "      <td>-0.271</td>\n",
       "      <td>0.219</td>\n",
       "      <td>0.412</td>\n",
       "      <td>0.148</td>\n",
       "      <td>0.00</td>\n",
       "      <td>14.700</td>\n",
       "    </tr>\n",
       "    <tr>\n",
       "      <th>9</th>\n",
       "      <td>2000</td>\n",
       "      <td>1</td>\n",
       "      <td>10</td>\n",
       "      <td>1.094</td>\n",
       "      <td>6.861</td>\n",
       "      <td>-4.674</td>\n",
       "      <td>0.373</td>\n",
       "      <td>0.835</td>\n",
       "      <td>0.295</td>\n",
       "      <td>0.00</td>\n",
       "      <td>14.641</td>\n",
       "    </tr>\n",
       "    <tr>\n",
       "      <th>10</th>\n",
       "      <td>2000</td>\n",
       "      <td>1</td>\n",
       "      <td>11</td>\n",
       "      <td>4.332</td>\n",
       "      <td>16.778</td>\n",
       "      <td>-8.114</td>\n",
       "      <td>0.435</td>\n",
       "      <td>0.909</td>\n",
       "      <td>0.139</td>\n",
       "      <td>0.00</td>\n",
       "      <td>13.132</td>\n",
       "    </tr>\n",
       "    <tr>\n",
       "      <th>11</th>\n",
       "      <td>2000</td>\n",
       "      <td>1</td>\n",
       "      <td>12</td>\n",
       "      <td>4.646</td>\n",
       "      <td>11.043</td>\n",
       "      <td>-1.752</td>\n",
       "      <td>0.452</td>\n",
       "      <td>0.817</td>\n",
       "      <td>0.248</td>\n",
       "      <td>0.00</td>\n",
       "      <td>14.367</td>\n",
       "    </tr>\n",
       "    <tr>\n",
       "      <th>12</th>\n",
       "      <td>2000</td>\n",
       "      <td>1</td>\n",
       "      <td>13</td>\n",
       "      <td>0.204</td>\n",
       "      <td>6.281</td>\n",
       "      <td>-5.872</td>\n",
       "      <td>0.365</td>\n",
       "      <td>0.826</td>\n",
       "      <td>0.352</td>\n",
       "      <td>0.00</td>\n",
       "      <td>3.842</td>\n",
       "    </tr>\n",
       "    <tr>\n",
       "      <th>13</th>\n",
       "      <td>2000</td>\n",
       "      <td>1</td>\n",
       "      <td>14</td>\n",
       "      <td>4.434</td>\n",
       "      <td>14.920</td>\n",
       "      <td>-6.053</td>\n",
       "      <td>0.404</td>\n",
       "      <td>0.802</td>\n",
       "      <td>0.165</td>\n",
       "      <td>0.00</td>\n",
       "      <td>5.566</td>\n",
       "    </tr>\n",
       "    <tr>\n",
       "      <th>14</th>\n",
       "      <td>2000</td>\n",
       "      <td>1</td>\n",
       "      <td>15</td>\n",
       "      <td>4.573</td>\n",
       "      <td>14.051</td>\n",
       "      <td>-4.905</td>\n",
       "      <td>0.332</td>\n",
       "      <td>0.656</td>\n",
       "      <td>0.132</td>\n",
       "      <td>0.00</td>\n",
       "      <td>4.018</td>\n",
       "    </tr>\n",
       "    <tr>\n",
       "      <th>15</th>\n",
       "      <td>2000</td>\n",
       "      <td>1</td>\n",
       "      <td>16</td>\n",
       "      <td>0.931</td>\n",
       "      <td>4.155</td>\n",
       "      <td>-2.292</td>\n",
       "      <td>0.332</td>\n",
       "      <td>0.690</td>\n",
       "      <td>0.328</td>\n",
       "      <td>0.00</td>\n",
       "      <td>6.507</td>\n",
       "    </tr>\n",
       "    <tr>\n",
       "      <th>16</th>\n",
       "      <td>2000</td>\n",
       "      <td>1</td>\n",
       "      <td>17</td>\n",
       "      <td>6.144</td>\n",
       "      <td>15.221</td>\n",
       "      <td>-2.934</td>\n",
       "      <td>0.517</td>\n",
       "      <td>0.798</td>\n",
       "      <td>0.298</td>\n",
       "      <td>0.00</td>\n",
       "      <td>5.586</td>\n",
       "    </tr>\n",
       "    <tr>\n",
       "      <th>17</th>\n",
       "      <td>2000</td>\n",
       "      <td>1</td>\n",
       "      <td>18</td>\n",
       "      <td>2.595</td>\n",
       "      <td>8.143</td>\n",
       "      <td>-2.954</td>\n",
       "      <td>0.547</td>\n",
       "      <td>0.952</td>\n",
       "      <td>0.535</td>\n",
       "      <td>0.00</td>\n",
       "      <td>6.546</td>\n",
       "    </tr>\n",
       "    <tr>\n",
       "      <th>18</th>\n",
       "      <td>2000</td>\n",
       "      <td>1</td>\n",
       "      <td>19</td>\n",
       "      <td>4.674</td>\n",
       "      <td>13.111</td>\n",
       "      <td>-3.763</td>\n",
       "      <td>0.530</td>\n",
       "      <td>0.987</td>\n",
       "      <td>0.258</td>\n",
       "      <td>0.00</td>\n",
       "      <td>13.308</td>\n",
       "    </tr>\n",
       "    <tr>\n",
       "      <th>19</th>\n",
       "      <td>2000</td>\n",
       "      <td>1</td>\n",
       "      <td>20</td>\n",
       "      <td>1.554</td>\n",
       "      <td>10.489</td>\n",
       "      <td>-7.380</td>\n",
       "      <td>0.419</td>\n",
       "      <td>0.926</td>\n",
       "      <td>0.302</td>\n",
       "      <td>0.00</td>\n",
       "      <td>5.037</td>\n",
       "    </tr>\n",
       "    <tr>\n",
       "      <th>20</th>\n",
       "      <td>2000</td>\n",
       "      <td>1</td>\n",
       "      <td>21</td>\n",
       "      <td>3.261</td>\n",
       "      <td>9.668</td>\n",
       "      <td>-3.146</td>\n",
       "      <td>0.461</td>\n",
       "      <td>0.885</td>\n",
       "      <td>0.310</td>\n",
       "      <td>0.00</td>\n",
       "      <td>9.565</td>\n",
       "    </tr>\n",
       "    <tr>\n",
       "      <th>21</th>\n",
       "      <td>2000</td>\n",
       "      <td>1</td>\n",
       "      <td>22</td>\n",
       "      <td>1.915</td>\n",
       "      <td>8.254</td>\n",
       "      <td>-4.424</td>\n",
       "      <td>0.386</td>\n",
       "      <td>0.931</td>\n",
       "      <td>0.173</td>\n",
       "      <td>0.00</td>\n",
       "      <td>14.034</td>\n",
       "    </tr>\n",
       "    <tr>\n",
       "      <th>22</th>\n",
       "      <td>2000</td>\n",
       "      <td>1</td>\n",
       "      <td>23</td>\n",
       "      <td>0.995</td>\n",
       "      <td>7.327</td>\n",
       "      <td>-5.338</td>\n",
       "      <td>0.281</td>\n",
       "      <td>0.656</td>\n",
       "      <td>0.204</td>\n",
       "      <td>0.00</td>\n",
       "      <td>10.506</td>\n",
       "    </tr>\n",
       "    <tr>\n",
       "      <th>23</th>\n",
       "      <td>2000</td>\n",
       "      <td>1</td>\n",
       "      <td>24</td>\n",
       "      <td>2.456</td>\n",
       "      <td>11.830</td>\n",
       "      <td>-6.918</td>\n",
       "      <td>0.344</td>\n",
       "      <td>0.682</td>\n",
       "      <td>0.264</td>\n",
       "      <td>0.00</td>\n",
       "      <td>15.170</td>\n",
       "    </tr>\n",
       "    <tr>\n",
       "      <th>24</th>\n",
       "      <td>2000</td>\n",
       "      <td>1</td>\n",
       "      <td>25</td>\n",
       "      <td>-2.340</td>\n",
       "      <td>0.516</td>\n",
       "      <td>-5.196</td>\n",
       "      <td>0.338</td>\n",
       "      <td>0.753</td>\n",
       "      <td>0.563</td>\n",
       "      <td>0.00</td>\n",
       "      <td>3.587</td>\n",
       "    </tr>\n",
       "    <tr>\n",
       "      <th>25</th>\n",
       "      <td>2000</td>\n",
       "      <td>1</td>\n",
       "      <td>26</td>\n",
       "      <td>0.288</td>\n",
       "      <td>7.339</td>\n",
       "      <td>-6.762</td>\n",
       "      <td>0.444</td>\n",
       "      <td>0.960</td>\n",
       "      <td>0.466</td>\n",
       "      <td>0.00</td>\n",
       "      <td>5.782</td>\n",
       "    </tr>\n",
       "    <tr>\n",
       "      <th>26</th>\n",
       "      <td>2000</td>\n",
       "      <td>1</td>\n",
       "      <td>27</td>\n",
       "      <td>-2.859</td>\n",
       "      <td>1.680</td>\n",
       "      <td>-7.399</td>\n",
       "      <td>0.423</td>\n",
       "      <td>1.009</td>\n",
       "      <td>0.702</td>\n",
       "      <td>0.00</td>\n",
       "      <td>5.978</td>\n",
       "    </tr>\n",
       "    <tr>\n",
       "      <th>27</th>\n",
       "      <td>2000</td>\n",
       "      <td>1</td>\n",
       "      <td>28</td>\n",
       "      <td>-5.502</td>\n",
       "      <td>0.630</td>\n",
       "      <td>-11.635</td>\n",
       "      <td>0.263</td>\n",
       "      <td>0.921</td>\n",
       "      <td>0.379</td>\n",
       "      <td>0.00</td>\n",
       "      <td>6.899</td>\n",
       "    </tr>\n",
       "    <tr>\n",
       "      <th>28</th>\n",
       "      <td>2000</td>\n",
       "      <td>1</td>\n",
       "      <td>29</td>\n",
       "      <td>-3.360</td>\n",
       "      <td>0.942</td>\n",
       "      <td>-7.662</td>\n",
       "      <td>0.338</td>\n",
       "      <td>0.947</td>\n",
       "      <td>0.474</td>\n",
       "      <td>0.00</td>\n",
       "      <td>5.508</td>\n",
       "    </tr>\n",
       "    <tr>\n",
       "      <th>29</th>\n",
       "      <td>2000</td>\n",
       "      <td>1</td>\n",
       "      <td>30</td>\n",
       "      <td>-3.817</td>\n",
       "      <td>3.683</td>\n",
       "      <td>-11.317</td>\n",
       "      <td>0.267</td>\n",
       "      <td>0.888</td>\n",
       "      <td>0.276</td>\n",
       "      <td>0.00</td>\n",
       "      <td>5.037</td>\n",
       "    </tr>\n",
       "    <tr>\n",
       "      <th>...</th>\n",
       "      <td>...</td>\n",
       "      <td>...</td>\n",
       "      <td>...</td>\n",
       "      <td>...</td>\n",
       "      <td>...</td>\n",
       "      <td>...</td>\n",
       "      <td>...</td>\n",
       "      <td>...</td>\n",
       "      <td>...</td>\n",
       "      <td>...</td>\n",
       "      <td>...</td>\n",
       "    </tr>\n",
       "    <tr>\n",
       "      <th>7298</th>\n",
       "      <td>2019</td>\n",
       "      <td>12</td>\n",
       "      <td>28</td>\n",
       "      <td>-2.695</td>\n",
       "      <td>-1.102</td>\n",
       "      <td>-4.288</td>\n",
       "      <td>0.363</td>\n",
       "      <td>0.973</td>\n",
       "      <td>0.477</td>\n",
       "      <td>0.00</td>\n",
       "      <td>10.623</td>\n",
       "    </tr>\n",
       "    <tr>\n",
       "      <th>7299</th>\n",
       "      <td>2019</td>\n",
       "      <td>12</td>\n",
       "      <td>29</td>\n",
       "      <td>-3.731</td>\n",
       "      <td>1.871</td>\n",
       "      <td>-9.333</td>\n",
       "      <td>0.221</td>\n",
       "      <td>0.690</td>\n",
       "      <td>0.267</td>\n",
       "      <td>0.16</td>\n",
       "      <td>11.486</td>\n",
       "    </tr>\n",
       "    <tr>\n",
       "      <th>7300</th>\n",
       "      <td>2019</td>\n",
       "      <td>12</td>\n",
       "      <td>30</td>\n",
       "      <td>-5.427</td>\n",
       "      <td>1.293</td>\n",
       "      <td>-12.147</td>\n",
       "      <td>0.226</td>\n",
       "      <td>0.833</td>\n",
       "      <td>0.278</td>\n",
       "      <td>0.02</td>\n",
       "      <td>4.586</td>\n",
       "    </tr>\n",
       "    <tr>\n",
       "      <th>7301</th>\n",
       "      <td>2019</td>\n",
       "      <td>12</td>\n",
       "      <td>31</td>\n",
       "      <td>-4.175</td>\n",
       "      <td>4.810</td>\n",
       "      <td>-13.160</td>\n",
       "      <td>0.247</td>\n",
       "      <td>0.862</td>\n",
       "      <td>0.241</td>\n",
       "      <td>0.00</td>\n",
       "      <td>5.566</td>\n",
       "    </tr>\n",
       "    <tr>\n",
       "      <th>7302</th>\n",
       "      <td>2020</td>\n",
       "      <td>1</td>\n",
       "      <td>1</td>\n",
       "      <td>3.806</td>\n",
       "      <td>12.233</td>\n",
       "      <td>-4.620</td>\n",
       "      <td>0.369</td>\n",
       "      <td>0.697</td>\n",
       "      <td>0.225</td>\n",
       "      <td>0.00</td>\n",
       "      <td>14.386</td>\n",
       "    </tr>\n",
       "    <tr>\n",
       "      <th>7303</th>\n",
       "      <td>2020</td>\n",
       "      <td>1</td>\n",
       "      <td>2</td>\n",
       "      <td>4.674</td>\n",
       "      <td>9.111</td>\n",
       "      <td>0.237</td>\n",
       "      <td>0.334</td>\n",
       "      <td>0.573</td>\n",
       "      <td>0.214</td>\n",
       "      <td>0.00</td>\n",
       "      <td>7.526</td>\n",
       "    </tr>\n",
       "    <tr>\n",
       "      <th>7304</th>\n",
       "      <td>2020</td>\n",
       "      <td>1</td>\n",
       "      <td>3</td>\n",
       "      <td>-0.407</td>\n",
       "      <td>6.147</td>\n",
       "      <td>-6.962</td>\n",
       "      <td>0.325</td>\n",
       "      <td>0.786</td>\n",
       "      <td>0.313</td>\n",
       "      <td>0.00</td>\n",
       "      <td>5.429</td>\n",
       "    </tr>\n",
       "    <tr>\n",
       "      <th>7305</th>\n",
       "      <td>2020</td>\n",
       "      <td>1</td>\n",
       "      <td>4</td>\n",
       "      <td>3.935</td>\n",
       "      <td>12.806</td>\n",
       "      <td>-4.936</td>\n",
       "      <td>0.416</td>\n",
       "      <td>0.811</td>\n",
       "      <td>0.219</td>\n",
       "      <td>0.00</td>\n",
       "      <td>15.582</td>\n",
       "    </tr>\n",
       "    <tr>\n",
       "      <th>7306</th>\n",
       "      <td>2020</td>\n",
       "      <td>1</td>\n",
       "      <td>5</td>\n",
       "      <td>2.313</td>\n",
       "      <td>7.313</td>\n",
       "      <td>-2.688</td>\n",
       "      <td>0.360</td>\n",
       "      <td>0.696</td>\n",
       "      <td>0.305</td>\n",
       "      <td>0.00</td>\n",
       "      <td>9.526</td>\n",
       "    </tr>\n",
       "    <tr>\n",
       "      <th>7307</th>\n",
       "      <td>2020</td>\n",
       "      <td>1</td>\n",
       "      <td>6</td>\n",
       "      <td>3.612</td>\n",
       "      <td>6.954</td>\n",
       "      <td>0.271</td>\n",
       "      <td>0.273</td>\n",
       "      <td>0.494</td>\n",
       "      <td>0.199</td>\n",
       "      <td>0.00</td>\n",
       "      <td>15.131</td>\n",
       "    </tr>\n",
       "    <tr>\n",
       "      <th>7308</th>\n",
       "      <td>2020</td>\n",
       "      <td>1</td>\n",
       "      <td>7</td>\n",
       "      <td>5.563</td>\n",
       "      <td>13.016</td>\n",
       "      <td>-1.890</td>\n",
       "      <td>0.411</td>\n",
       "      <td>0.704</td>\n",
       "      <td>0.205</td>\n",
       "      <td>0.00</td>\n",
       "      <td>12.975</td>\n",
       "    </tr>\n",
       "    <tr>\n",
       "      <th>7309</th>\n",
       "      <td>2020</td>\n",
       "      <td>1</td>\n",
       "      <td>8</td>\n",
       "      <td>5.554</td>\n",
       "      <td>15.287</td>\n",
       "      <td>-4.179</td>\n",
       "      <td>0.384</td>\n",
       "      <td>0.755</td>\n",
       "      <td>0.094</td>\n",
       "      <td>0.00</td>\n",
       "      <td>10.702</td>\n",
       "    </tr>\n",
       "    <tr>\n",
       "      <th>7310</th>\n",
       "      <td>2020</td>\n",
       "      <td>1</td>\n",
       "      <td>9</td>\n",
       "      <td>1.770</td>\n",
       "      <td>5.543</td>\n",
       "      <td>-2.003</td>\n",
       "      <td>0.369</td>\n",
       "      <td>0.751</td>\n",
       "      <td>0.314</td>\n",
       "      <td>0.00</td>\n",
       "      <td>6.938</td>\n",
       "    </tr>\n",
       "    <tr>\n",
       "      <th>7311</th>\n",
       "      <td>2020</td>\n",
       "      <td>1</td>\n",
       "      <td>10</td>\n",
       "      <td>-3.769</td>\n",
       "      <td>1.872</td>\n",
       "      <td>-9.409</td>\n",
       "      <td>0.280</td>\n",
       "      <td>0.873</td>\n",
       "      <td>0.340</td>\n",
       "      <td>0.00</td>\n",
       "      <td>8.506</td>\n",
       "    </tr>\n",
       "    <tr>\n",
       "      <th>7312</th>\n",
       "      <td>2020</td>\n",
       "      <td>1</td>\n",
       "      <td>11</td>\n",
       "      <td>-2.958</td>\n",
       "      <td>5.714</td>\n",
       "      <td>-11.630</td>\n",
       "      <td>0.278</td>\n",
       "      <td>0.879</td>\n",
       "      <td>0.257</td>\n",
       "      <td>0.00</td>\n",
       "      <td>9.467</td>\n",
       "    </tr>\n",
       "    <tr>\n",
       "      <th>7313</th>\n",
       "      <td>2020</td>\n",
       "      <td>1</td>\n",
       "      <td>12</td>\n",
       "      <td>-1.264</td>\n",
       "      <td>5.115</td>\n",
       "      <td>-7.643</td>\n",
       "      <td>0.266</td>\n",
       "      <td>0.726</td>\n",
       "      <td>0.232</td>\n",
       "      <td>0.00</td>\n",
       "      <td>5.782</td>\n",
       "    </tr>\n",
       "    <tr>\n",
       "      <th>7314</th>\n",
       "      <td>2020</td>\n",
       "      <td>1</td>\n",
       "      <td>13</td>\n",
       "      <td>-1.048</td>\n",
       "      <td>6.523</td>\n",
       "      <td>-8.618</td>\n",
       "      <td>0.263</td>\n",
       "      <td>0.697</td>\n",
       "      <td>0.234</td>\n",
       "      <td>0.00</td>\n",
       "      <td>8.644</td>\n",
       "    </tr>\n",
       "    <tr>\n",
       "      <th>7315</th>\n",
       "      <td>2020</td>\n",
       "      <td>1</td>\n",
       "      <td>14</td>\n",
       "      <td>1.998</td>\n",
       "      <td>12.433</td>\n",
       "      <td>-8.438</td>\n",
       "      <td>0.319</td>\n",
       "      <td>0.767</td>\n",
       "      <td>0.140</td>\n",
       "      <td>0.00</td>\n",
       "      <td>10.408</td>\n",
       "    </tr>\n",
       "    <tr>\n",
       "      <th>7316</th>\n",
       "      <td>2020</td>\n",
       "      <td>1</td>\n",
       "      <td>15</td>\n",
       "      <td>0.329</td>\n",
       "      <td>4.307</td>\n",
       "      <td>-3.649</td>\n",
       "      <td>0.276</td>\n",
       "      <td>0.575</td>\n",
       "      <td>0.311</td>\n",
       "      <td>0.00</td>\n",
       "      <td>7.742</td>\n",
       "    </tr>\n",
       "    <tr>\n",
       "      <th>7317</th>\n",
       "      <td>2020</td>\n",
       "      <td>1</td>\n",
       "      <td>16</td>\n",
       "      <td>-3.090</td>\n",
       "      <td>2.453</td>\n",
       "      <td>-8.633</td>\n",
       "      <td>0.261</td>\n",
       "      <td>0.723</td>\n",
       "      <td>0.354</td>\n",
       "      <td>0.00</td>\n",
       "      <td>4.234</td>\n",
       "    </tr>\n",
       "    <tr>\n",
       "      <th>7318</th>\n",
       "      <td>2020</td>\n",
       "      <td>1</td>\n",
       "      <td>17</td>\n",
       "      <td>1.758</td>\n",
       "      <td>10.237</td>\n",
       "      <td>-6.721</td>\n",
       "      <td>0.356</td>\n",
       "      <td>0.779</td>\n",
       "      <td>0.250</td>\n",
       "      <td>0.00</td>\n",
       "      <td>11.956</td>\n",
       "    </tr>\n",
       "    <tr>\n",
       "      <th>7319</th>\n",
       "      <td>2020</td>\n",
       "      <td>1</td>\n",
       "      <td>18</td>\n",
       "      <td>-1.554</td>\n",
       "      <td>2.887</td>\n",
       "      <td>-5.995</td>\n",
       "      <td>0.248</td>\n",
       "      <td>0.647</td>\n",
       "      <td>0.265</td>\n",
       "      <td>0.00</td>\n",
       "      <td>12.015</td>\n",
       "    </tr>\n",
       "    <tr>\n",
       "      <th>7320</th>\n",
       "      <td>2020</td>\n",
       "      <td>1</td>\n",
       "      <td>19</td>\n",
       "      <td>-0.584</td>\n",
       "      <td>7.933</td>\n",
       "      <td>-9.102</td>\n",
       "      <td>0.309</td>\n",
       "      <td>0.786</td>\n",
       "      <td>0.274</td>\n",
       "      <td>0.00</td>\n",
       "      <td>5.253</td>\n",
       "    </tr>\n",
       "    <tr>\n",
       "      <th>7321</th>\n",
       "      <td>2020</td>\n",
       "      <td>1</td>\n",
       "      <td>20</td>\n",
       "      <td>-0.145</td>\n",
       "      <td>9.243</td>\n",
       "      <td>-9.533</td>\n",
       "      <td>0.300</td>\n",
       "      <td>0.819</td>\n",
       "      <td>0.177</td>\n",
       "      <td>0.00</td>\n",
       "      <td>4.390</td>\n",
       "    </tr>\n",
       "    <tr>\n",
       "      <th>7322</th>\n",
       "      <td>2020</td>\n",
       "      <td>1</td>\n",
       "      <td>21</td>\n",
       "      <td>4.139</td>\n",
       "      <td>9.346</td>\n",
       "      <td>-1.067</td>\n",
       "      <td>0.375</td>\n",
       "      <td>0.623</td>\n",
       "      <td>0.291</td>\n",
       "      <td>0.00</td>\n",
       "      <td>3.156</td>\n",
       "    </tr>\n",
       "    <tr>\n",
       "      <th>7323</th>\n",
       "      <td>2020</td>\n",
       "      <td>1</td>\n",
       "      <td>22</td>\n",
       "      <td>6.225</td>\n",
       "      <td>11.304</td>\n",
       "      <td>1.146</td>\n",
       "      <td>0.392</td>\n",
       "      <td>0.621</td>\n",
       "      <td>0.207</td>\n",
       "      <td>0.00</td>\n",
       "      <td>13.838</td>\n",
       "    </tr>\n",
       "    <tr>\n",
       "      <th>7324</th>\n",
       "      <td>2020</td>\n",
       "      <td>1</td>\n",
       "      <td>23</td>\n",
       "      <td>2.485</td>\n",
       "      <td>5.630</td>\n",
       "      <td>-0.661</td>\n",
       "      <td>0.275</td>\n",
       "      <td>0.464</td>\n",
       "      <td>0.291</td>\n",
       "      <td>0.00</td>\n",
       "      <td>7.546</td>\n",
       "    </tr>\n",
       "    <tr>\n",
       "      <th>7325</th>\n",
       "      <td>2020</td>\n",
       "      <td>1</td>\n",
       "      <td>24</td>\n",
       "      <td>1.588</td>\n",
       "      <td>9.132</td>\n",
       "      <td>-5.956</td>\n",
       "      <td>0.380</td>\n",
       "      <td>0.799</td>\n",
       "      <td>0.313</td>\n",
       "      <td>0.00</td>\n",
       "      <td>3.920</td>\n",
       "    </tr>\n",
       "    <tr>\n",
       "      <th>7326</th>\n",
       "      <td>2020</td>\n",
       "      <td>1</td>\n",
       "      <td>25</td>\n",
       "      <td>4.991</td>\n",
       "      <td>12.409</td>\n",
       "      <td>-2.426</td>\n",
       "      <td>0.432</td>\n",
       "      <td>0.755</td>\n",
       "      <td>0.238</td>\n",
       "      <td>0.00</td>\n",
       "      <td>6.037</td>\n",
       "    </tr>\n",
       "    <tr>\n",
       "      <th>7327</th>\n",
       "      <td>2020</td>\n",
       "      <td>1</td>\n",
       "      <td>26</td>\n",
       "      <td>4.090</td>\n",
       "      <td>10.939</td>\n",
       "      <td>-2.759</td>\n",
       "      <td>0.413</td>\n",
       "      <td>0.713</td>\n",
       "      <td>0.298</td>\n",
       "      <td>0.00</td>\n",
       "      <td>7.017</td>\n",
       "    </tr>\n",
       "  </tbody>\n",
       "</table>\n",
       "<p>7328 rows × 11 columns</p>\n",
       "</div>"
      ],
      "text/plain": [
       "      Year  Mo  Dy   tave    tmax    tmin     vp  rhmax  rhmin    pp    gust\n",
       "0     2000   1   1  3.477  11.858  -4.905  0.331  0.614  0.233  0.00   8.252\n",
       "1     2000   1   2  0.363   6.415  -5.690  0.396  0.872  0.392  0.00   8.742\n",
       "2     2000   1   3 -4.448   1.153 -10.049  0.185  0.573  0.274  0.00  10.741\n",
       "3     2000   1   4 -2.465   6.562 -11.493  0.245  0.710  0.254  0.00   4.116\n",
       "4     2000   1   5  1.558   6.723  -3.608  0.228  0.540  0.132  0.00  15.974\n",
       "5     2000   1   6 -3.041   4.760 -10.842  0.195  0.649  0.152  0.00   6.468\n",
       "6     2000   1   7 -3.142   3.954 -10.238  0.249  0.709  0.321  0.00   7.115\n",
       "7     2000   1   8 -0.511   8.015  -9.036  0.295  0.785  0.220  0.00  13.387\n",
       "8     2000   1   9  3.529   7.330  -0.271  0.219  0.412  0.148  0.00  14.700\n",
       "9     2000   1  10  1.094   6.861  -4.674  0.373  0.835  0.295  0.00  14.641\n",
       "10    2000   1  11  4.332  16.778  -8.114  0.435  0.909  0.139  0.00  13.132\n",
       "11    2000   1  12  4.646  11.043  -1.752  0.452  0.817  0.248  0.00  14.367\n",
       "12    2000   1  13  0.204   6.281  -5.872  0.365  0.826  0.352  0.00   3.842\n",
       "13    2000   1  14  4.434  14.920  -6.053  0.404  0.802  0.165  0.00   5.566\n",
       "14    2000   1  15  4.573  14.051  -4.905  0.332  0.656  0.132  0.00   4.018\n",
       "15    2000   1  16  0.931   4.155  -2.292  0.332  0.690  0.328  0.00   6.507\n",
       "16    2000   1  17  6.144  15.221  -2.934  0.517  0.798  0.298  0.00   5.586\n",
       "17    2000   1  18  2.595   8.143  -2.954  0.547  0.952  0.535  0.00   6.546\n",
       "18    2000   1  19  4.674  13.111  -3.763  0.530  0.987  0.258  0.00  13.308\n",
       "19    2000   1  20  1.554  10.489  -7.380  0.419  0.926  0.302  0.00   5.037\n",
       "20    2000   1  21  3.261   9.668  -3.146  0.461  0.885  0.310  0.00   9.565\n",
       "21    2000   1  22  1.915   8.254  -4.424  0.386  0.931  0.173  0.00  14.034\n",
       "22    2000   1  23  0.995   7.327  -5.338  0.281  0.656  0.204  0.00  10.506\n",
       "23    2000   1  24  2.456  11.830  -6.918  0.344  0.682  0.264  0.00  15.170\n",
       "24    2000   1  25 -2.340   0.516  -5.196  0.338  0.753  0.563  0.00   3.587\n",
       "25    2000   1  26  0.288   7.339  -6.762  0.444  0.960  0.466  0.00   5.782\n",
       "26    2000   1  27 -2.859   1.680  -7.399  0.423  1.009  0.702  0.00   5.978\n",
       "27    2000   1  28 -5.502   0.630 -11.635  0.263  0.921  0.379  0.00   6.899\n",
       "28    2000   1  29 -3.360   0.942  -7.662  0.338  0.947  0.474  0.00   5.508\n",
       "29    2000   1  30 -3.817   3.683 -11.317  0.267  0.888  0.276  0.00   5.037\n",
       "...    ...  ..  ..    ...     ...     ...    ...    ...    ...   ...     ...\n",
       "7298  2019  12  28 -2.695  -1.102  -4.288  0.363  0.973  0.477  0.00  10.623\n",
       "7299  2019  12  29 -3.731   1.871  -9.333  0.221  0.690  0.267  0.16  11.486\n",
       "7300  2019  12  30 -5.427   1.293 -12.147  0.226  0.833  0.278  0.02   4.586\n",
       "7301  2019  12  31 -4.175   4.810 -13.160  0.247  0.862  0.241  0.00   5.566\n",
       "7302  2020   1   1  3.806  12.233  -4.620  0.369  0.697  0.225  0.00  14.386\n",
       "7303  2020   1   2  4.674   9.111   0.237  0.334  0.573  0.214  0.00   7.526\n",
       "7304  2020   1   3 -0.407   6.147  -6.962  0.325  0.786  0.313  0.00   5.429\n",
       "7305  2020   1   4  3.935  12.806  -4.936  0.416  0.811  0.219  0.00  15.582\n",
       "7306  2020   1   5  2.313   7.313  -2.688  0.360  0.696  0.305  0.00   9.526\n",
       "7307  2020   1   6  3.612   6.954   0.271  0.273  0.494  0.199  0.00  15.131\n",
       "7308  2020   1   7  5.563  13.016  -1.890  0.411  0.704  0.205  0.00  12.975\n",
       "7309  2020   1   8  5.554  15.287  -4.179  0.384  0.755  0.094  0.00  10.702\n",
       "7310  2020   1   9  1.770   5.543  -2.003  0.369  0.751  0.314  0.00   6.938\n",
       "7311  2020   1  10 -3.769   1.872  -9.409  0.280  0.873  0.340  0.00   8.506\n",
       "7312  2020   1  11 -2.958   5.714 -11.630  0.278  0.879  0.257  0.00   9.467\n",
       "7313  2020   1  12 -1.264   5.115  -7.643  0.266  0.726  0.232  0.00   5.782\n",
       "7314  2020   1  13 -1.048   6.523  -8.618  0.263  0.697  0.234  0.00   8.644\n",
       "7315  2020   1  14  1.998  12.433  -8.438  0.319  0.767  0.140  0.00  10.408\n",
       "7316  2020   1  15  0.329   4.307  -3.649  0.276  0.575  0.311  0.00   7.742\n",
       "7317  2020   1  16 -3.090   2.453  -8.633  0.261  0.723  0.354  0.00   4.234\n",
       "7318  2020   1  17  1.758  10.237  -6.721  0.356  0.779  0.250  0.00  11.956\n",
       "7319  2020   1  18 -1.554   2.887  -5.995  0.248  0.647  0.265  0.00  12.015\n",
       "7320  2020   1  19 -0.584   7.933  -9.102  0.309  0.786  0.274  0.00   5.253\n",
       "7321  2020   1  20 -0.145   9.243  -9.533  0.300  0.819  0.177  0.00   4.390\n",
       "7322  2020   1  21  4.139   9.346  -1.067  0.375  0.623  0.291  0.00   3.156\n",
       "7323  2020   1  22  6.225  11.304   1.146  0.392  0.621  0.207  0.00  13.838\n",
       "7324  2020   1  23  2.485   5.630  -0.661  0.275  0.464  0.291  0.00   7.546\n",
       "7325  2020   1  24  1.588   9.132  -5.956  0.380  0.799  0.313  0.00   3.920\n",
       "7326  2020   1  25  4.991  12.409  -2.426  0.432  0.755  0.238  0.00   6.037\n",
       "7327  2020   1  26  4.090  10.939  -2.759  0.413  0.713  0.298  0.00   7.017\n",
       "\n",
       "[7328 rows x 11 columns]"
      ]
     },
     "execution_count": 186,
     "metadata": {},
     "output_type": "execute_result"
    }
   ],
   "source": [
    "import pandas\n",
    "df = pandas.read_csv('weather.data',delim_whitespace=True,na_values='***')\n",
    "df"
   ]
  },
  {
   "cell_type": "markdown",
   "metadata": {},
   "source": [
    "## 5 points:\n",
    "\n",
    "Check for missing values by showing the number of NA values, as shown in lecture notes."
   ]
  },
  {
   "cell_type": "code",
   "execution_count": 187,
   "metadata": {},
   "outputs": [
    {
     "data": {
      "text/plain": [
       "Year      0\n",
       "Mo        0\n",
       "Dy        0\n",
       "tave     33\n",
       "tmax     33\n",
       "tmin     33\n",
       "vp       33\n",
       "rhmax    33\n",
       "rhmin    33\n",
       "pp       33\n",
       "gust     33\n",
       "dtype: int64"
      ]
     },
     "execution_count": 187,
     "metadata": {},
     "output_type": "execute_result"
    }
   ],
   "source": [
    "df.isna().sum()"
   ]
  },
  {
   "cell_type": "markdown",
   "metadata": {},
   "source": [
    "## 5 points:\n",
    "\n",
    "If there are missing values, remove samples that contain missing values. Prove that you\n",
    "were successful by counting the number of missing values now, which should be zero."
   ]
  },
  {
   "cell_type": "code",
   "execution_count": 188,
   "metadata": {},
   "outputs": [
    {
     "data": {
      "text/plain": [
       "Year     0\n",
       "Mo       0\n",
       "Dy       0\n",
       "tave     0\n",
       "tmax     0\n",
       "tmin     0\n",
       "vp       0\n",
       "rhmax    0\n",
       "rhmin    0\n",
       "pp       0\n",
       "gust     0\n",
       "dtype: int64"
      ]
     },
     "execution_count": 188,
     "metadata": {},
     "output_type": "execute_result"
    }
   ],
   "source": [
    "df = df.dropna()\n",
    "df.isna().sum()"
   ]
  },
  {
   "cell_type": "markdown",
   "metadata": {},
   "source": [
    "Your job is now to create a linear model that predicts the next day's average temperature (tave) from the previous day's values of\n",
    "1. tave: average temperature\n",
    "2. tmax: maximum temperature\n",
    "3. tmin: minimum temperature\n",
    "4. vp: vapor pressure\n",
    "5. rhmax: maximum relative humidity\n",
    "6. rhmin: minimum relative humidity\n",
    "7. pp: precipitation\n",
    "8. gust: wind gust speed\n",
    "\n",
    "As a hint on how to do this, here is a list with these column names:"
   ]
  },
  {
   "cell_type": "code",
   "execution_count": 189,
   "metadata": {},
   "outputs": [],
   "source": [
    "Xnames = ['tave', 'tmax', 'tmin', 'vp', 'rhmax', 'rhmin', 'pp', 'gust']\n",
    "Tnames = ['next tave']"
   ]
  },
  {
   "cell_type": "markdown",
   "metadata": {},
   "source": [
    "## 5 points:\n",
    "\n",
    "Now select those eight columns from `df` and convert the result to a `numpy` array.  (Easier than it sounds.)\n",
    "Then assign `X` to be all columns and all but the last row.  Assign `T` to be just the first column (tave) and all but the first sample.  So now the first row (sample) in `X` is associated with the first row (sample) in `T` which tave for the following day."
   ]
  },
  {
   "cell_type": "code",
   "execution_count": 190,
   "metadata": {},
   "outputs": [
    {
     "data": {
      "image/png": "[encoded data removed]",
      "text/plain": [
       "<Figure size 720x720 with 8 Axes>"
      ]
     },
     "metadata": {
      "needs_background": "light"
     },
     "output_type": "display_data"
    }
   ],
   "source": [
    "#a=df.iloc[:, 4:].values\n",
    "#b=df.iloc[:, 0:3].values\n",
    "#data = np.concatenate(df.iloc[:, 0:3].values, df.iloc[:, 4:8].values)\n",
    "#data = np.concatenate((a, b), axis=1)\n",
    "X = df.iloc[:-1, 3:].values\n",
    "T = df.iloc[1:, 3:4].values\n",
    "Y = np.arange(0, 7294).reshape(-1, 1)  # make X a 100 x 1 matrix\n",
    "ncol =X.shape[1]\n",
    "plt.figure(figsize=(10, 10))\n",
    "\n",
    "for c in range(ncol):\n",
    "    plt.subplot(3, 3, c+1)\n",
    "    plt.plot(X[:, c],T,'.')\n",
    "    plt.xlabel('Sample Number')\n",
    "    plt.ylabel(Xnames[c])\n",
    "    plt.tight_layout()\n"
   ]
  },
  {
   "cell_type": "markdown",
   "metadata": {},
   "source": [
    "## 15 points:\n",
    "\n",
    "Use the function `train` to train a model for the `X`\n",
    "and `T` data.  Run it several times with different `learning_rate`\n",
    "and `n_epochs` values to produce decreasing errors. Use the `use`\n",
    "function and plots of `T` versus predicted `Y` values to show how\n",
    "well the model is working.  Type your observations of the plot and of the value of `rmse` to discuss how well the model succeeds."
   ]
  },
  {
   "cell_type": "code",
   "execution_count": 191,
   "metadata": {},
   "outputs": [
    {
     "name": "stdout",
     "output_type": "stream",
     "text": [
      "Epoch 10 RMSE 0.33\n",
      "Epoch 20 RMSE 0.33\n",
      "Epoch 30 RMSE 0.33\n",
      "Epoch 40 RMSE 0.33\n",
      "Epoch 50 RMSE 0.33\n",
      "Epoch 60 RMSE 0.33\n",
      "Epoch 70 RMSE 0.33\n",
      "Epoch 80 RMSE 0.33\n",
      "Epoch 90 RMSE 0.33\n",
      "Epoch 100 RMSE 0.33\n"
     ]
    },
    {
     "data": {
      "text/plain": [
       "{'w': array([[-0.01241061],\n",
       "        [ 0.27372925],\n",
       "        [ 0.32992815],\n",
       "        [ 0.19137443],\n",
       "        [ 0.17965519],\n",
       "        [-0.0338301 ],\n",
       "        [-0.00035767],\n",
       "        [ 0.01900232],\n",
       "        [-0.11583281]]),\n",
       " 'Xmeans': array([10.2909501 , 17.63310269,  2.9487912 ,  0.79909528,  0.82770661,\n",
       "         0.29674253,  0.02790513,  8.24348999]),\n",
       " 'Xstds': array([ 9.59225991, 10.64262623,  9.09179158,  0.45833066,  0.12976821,\n",
       "         0.17032268,  0.12258861,  3.10079319]),\n",
       " 'Tmeans': array([10.29103414]),\n",
       " 'Tstds': array([9.59220289])}"
      ]
     },
     "execution_count": 191,
     "metadata": {},
     "output_type": "execute_result"
    }
   ],
   "source": [
    "model = train(X, T, 0.001, 100, verbose=True)\n",
    "model"
   ]
  },
  {
   "cell_type": "code",
   "execution_count": 110,
   "metadata": {},
   "outputs": [
    {
     "data": {
      "text/plain": [
       "<matplotlib.legend.Legend at 0x29f507842e8>"
      ]
     },
     "execution_count": 110,
     "metadata": {},
     "output_type": "execute_result"
    },
    {
     "data": {
      "image/png": "[encoded data removed]",
      "text/plain": [
       "<Figure size 432x288 with 1 Axes>"
      ]
     },
     "metadata": {
      "needs_background": "light"
     },
     "output_type": "display_data"
    }
   ],
   "source": [
    "Y = use(X, model)\n",
    "old_pred = Y\n",
    "plt.plot(T, '.', label='T')\n",
    "plt.plot(Y, '.', label='Y')\n",
    "plt.legend()\n"
   ]
  },
  {
   "cell_type": "code",
   "execution_count": 111,
   "metadata": {},
   "outputs": [
    {
     "data": {
      "text/plain": [
       "[<matplotlib.lines.Line2D at 0x29f4f39b748>]"
      ]
     },
     "execution_count": 111,
     "metadata": {},
     "output_type": "execute_result"
    },
    {
     "data": {
      "image/png": "[encoded data removed]",
      "text/plain": [
       "<Figure size 432x288 with 1 Axes>"
      ]
     },
     "metadata": {
      "needs_background": "light"
     },
     "output_type": "display_data"
    }
   ],
   "source": [
    "plt.plot(Y[:, 0], T[:, 0], 'o')\n",
    "plt.xlabel('Predicted')\n",
    "plt.ylabel('Actual')\n",
    "a = max(min(Y[:, 0]), min(T[:, 0]))\n",
    "b = min(max(Y[:, 0]), max(T[:, 0]))\n",
    "plt.plot([a, b], [a, b], 'r', linewidth=3)"
   ]
  },
  {
   "cell_type": "markdown",
   "metadata": {},
   "source": [
    "# Answer\n",
    "We can clearly see from the graph that the actual values vs the predicted values follows the 45 degrees angle. \n",
    "\n",
    "the rmse value reached the minimum when using a higher learning rate of 0.01 or even 0.001 and reached the minimum error in 10 epochs.\n",
    "\n",
    "The rmse value reached the minimum value in 40 epochs for a learning rate of 0.00001\n",
    "\n",
    "The rmse value has reached the minimum value in 100 epochs when using lower learning rate of 0.000001\n",
    "\n",
    "The rmse value still didnt reached the minimum value even after 1000 epochs for a learning rate of 0.0000001"
   ]
  },
  {
   "cell_type": "markdown",
   "metadata": {},
   "source": [
    "## 5 points:\n",
    "\n",
    "Print the weight values in the resulting model along with their corresponding variable names (in `Xnames`). Use the relative magnitude\n",
    "of the weight values to discuss which input variables are most significant in predicting the changes in the tave values."
   ]
  },
  {
   "cell_type": "code",
   "execution_count": 112,
   "metadata": {},
   "outputs": [
    {
     "data": {
      "text/html": [
       "<div>\n",
       "<style scoped>\n",
       "    .dataframe tbody tr th:only-of-type {\n",
       "        vertical-align: middle;\n",
       "    }\n",
       "\n",
       "    .dataframe tbody tr th {\n",
       "        vertical-align: top;\n",
       "    }\n",
       "\n",
       "    .dataframe thead th {\n",
       "        text-align: right;\n",
       "    }\n",
       "</style>\n",
       "<table border=\"1\" class=\"dataframe\">\n",
       "  <thead>\n",
       "    <tr style=\"text-align: right;\">\n",
       "      <th></th>\n",
       "      <th>Weights</th>\n",
       "    </tr>\n",
       "  </thead>\n",
       "  <tbody>\n",
       "    <tr>\n",
       "      <th>bias</th>\n",
       "      <td>-0.000015</td>\n",
       "    </tr>\n",
       "    <tr>\n",
       "      <th>tave</th>\n",
       "      <td>0.245340</td>\n",
       "    </tr>\n",
       "    <tr>\n",
       "      <th>tmax</th>\n",
       "      <td>0.240846</td>\n",
       "    </tr>\n",
       "    <tr>\n",
       "      <th>tmin</th>\n",
       "      <td>0.235762</td>\n",
       "    </tr>\n",
       "    <tr>\n",
       "      <th>vp</th>\n",
       "      <td>0.229027</td>\n",
       "    </tr>\n",
       "    <tr>\n",
       "      <th>rhmax</th>\n",
       "      <td>-0.016474</td>\n",
       "    </tr>\n",
       "    <tr>\n",
       "      <th>rhmin</th>\n",
       "      <td>-0.059768</td>\n",
       "    </tr>\n",
       "    <tr>\n",
       "      <th>pp</th>\n",
       "      <td>0.002332</td>\n",
       "    </tr>\n",
       "    <tr>\n",
       "      <th>gust</th>\n",
       "      <td>-0.071005</td>\n",
       "    </tr>\n",
       "  </tbody>\n",
       "</table>\n",
       "</div>"
      ],
      "text/plain": [
       "        Weights\n",
       "bias  -0.000015\n",
       "tave   0.245340\n",
       "tmax   0.240846\n",
       "tmin   0.235762\n",
       "vp     0.229027\n",
       "rhmax -0.016474\n",
       "rhmin -0.059768\n",
       "pp     0.002332\n",
       "gust  -0.071005"
      ]
     },
     "execution_count": 112,
     "metadata": {},
     "output_type": "execute_result"
    }
   ],
   "source": [
    "Xnames_new= [\"bias\"] + Xnames\n",
    "new =np.transpose(Xnames)\n",
    "new_df = pandas.DataFrame(model['w'], index=Xnames_new,columns=list(['Weights']))\n",
    "new_df"
   ]
  },
  {
   "cell_type": "markdown",
   "metadata": {},
   "source": [
    "# Answer\n",
    "\n",
    "We can clearly see from the weights that `tave`, `tmax`, `tmin` and `vp` are the major contributors for predicting the temperature values"
   ]
  },
  {
   "cell_type": "markdown",
   "metadata": {},
   "source": [
    "## Grading and Check-in\n",
    "\n",
    "Your notebook will be partially run and graded automatically. Test this grading process by first downloading [A1grader.zip](http://www.cs.colostate.edu/~anderson/cs445/notebooks/A1grader.zip) and extract `A1grader.py` from it. Run the code in the following cell to demonstrate an example grading session. You should see a perfect execution score of 60/60 if your functions are defined correctly. The remaining 40 points will be based on other testing and the results you obtain and your discussions.\n",
    "\n",
    "A different, but similar, grading script will be used to grade your checked-in notebook. It will include additional tests. You should design and perform additional tests on all of your functions to be sure they run correctly before checking in your notebook.\n",
    "\n",
    "For the grading script to run correctly, you must first name this notebook as `Lastname-A1.ipynb` with `Lastname` being your last name, and then save this notebook and check it in at the A1 assignment link in our Canvas web page."
   ]
  },
  {
   "cell_type": "code",
   "execution_count": 1,
   "metadata": {},
   "outputs": [
    {
     "name": "stdout",
     "output_type": "stream",
     "text": [
      "\n",
      "======================= Code Execution =======================\n",
      "\n",
      "Extracting python code from notebook named 'Gannavarapu-A1.ipynb' and storing in notebookcode.py\n",
      "Removing all statements that are not function or class defs or import statements.\n",
      "\n",
      "Testing\n",
      "  X = np.array([1, 2, 3, 4, 5, 8, 9, 11]).reshape((-1, 1))\n",
      "  T = (X - 5) * 0.05 + 0.002 * (X - 8)**2\n",
      "  model = train(X, T, 0.001, 1000, True)\n",
      "\n",
      "Epoch 100 RMSE 0.46\n",
      "Epoch 200 RMSE 0.24\n",
      "Epoch 300 RMSE 0.15\n",
      "Epoch 400 RMSE 0.13\n",
      "Epoch 500 RMSE 0.13\n",
      "Epoch 600 RMSE 0.12\n",
      "Epoch 700 RMSE 0.12\n",
      "Epoch 800 RMSE 0.12\n",
      "Epoch 900 RMSE 0.12\n",
      "Epoch 1000 RMSE 0.12\n",
      "\n",
      "--- 20/20 points. Returned correct values.\n",
      "\n",
      "--- 10/10 points. Xmeans and Xstds are correct values.\n",
      "\n",
      "--- 10/10 points. Tmeans and Tstds are correct values.\n",
      "\n",
      "Testing\n",
      "  Y = use(X, model)\n",
      "\n",
      "\n",
      "--- 10/10 points. Returned correct values.\n",
      "\n",
      "Testing\n",
      "  err = rmse(Y, T)\n",
      "\n",
      "\n",
      "--- 10/10 points. Returned correct values.\n",
      "\n",
      "======================================================================\n",
      "C:\\Users\\ganna\\OneDrive\\Documents\\CSU\\Spring2020\\Into to ML Execution Grade is 60 / 60\n",
      "======================================================================\n",
      "\n",
      " __ / 5 Reading in weather.data correctly.\n",
      "\n",
      " __ / 5 Count missing values, to show there are some.\n",
      "\n",
      " __ / 5 Remove samples with missing values. Count to show there are none.\n",
      "\n",
      " __ / 5 Construct X and T matrices as specified.\n",
      "\n",
      " __ / 15 Use your train function on X and T. Show results as RMSE values and as plots\n",
      "       for several different values of learning_rate and n_epochs. Type your \n",
      "       observations of RMSE values and of plots with at least five sentences.\n",
      "\n",
      " __ / 5 Print the weight values with corresponding variable names. Discuss\n",
      "       which input variablesa re most signficant in predicting tave values.\n",
      "\n",
      "======================================================================\n",
      "C:\\Users\\ganna\\OneDrive\\Documents\\CSU\\Spring2020\\Into to ML FINAL GRADE is  _  / 100\n",
      "======================================================================\n",
      "\n",
      "Extra Credit:\n",
      "Predict the change in tave from one day to the next, instead of the actual tave.\n",
      "Show and discuss RMSE and plotting results for several values of learning_rate\n",
      "and n_epochs.\n",
      "\n",
      "C:\\Users\\ganna\\OneDrive\\Documents\\CSU\\Spring2020\\Into to ML EXTRA CREDIT is 0 / 1\n"
     ]
    }
   ],
   "source": [
    "%run -i A1grader.py"
   ]
  },
  {
   "cell_type": "markdown",
   "metadata": {},
   "source": [
    "## Extra Credit: 1 point"
   ]
  },
  {
   "cell_type": "markdown",
   "metadata": {},
   "source": [
    "A typical problem when predicting the next value in a time series is\n",
    "that the best solution may be to predict the previous value.  The\n",
    "predicted value will look a lot like the input tave value shifted on\n",
    "time step later.\n",
    "\n",
    "To do better, try predicting the change in tave from one day to the next. `T` can be assigned as"
   ]
  },
  {
   "cell_type": "code",
   "execution_count": 114,
   "metadata": {},
   "outputs": [
    {
     "name": "stdout",
     "output_type": "stream",
     "text": [
      "Epoch 10 RMSE 0.98\n",
      "Epoch 20 RMSE 0.97\n",
      "Epoch 30 RMSE 0.96\n",
      "Epoch 40 RMSE 0.96\n",
      "Epoch 50 RMSE 0.95\n",
      "Epoch 60 RMSE 0.95\n",
      "Epoch 70 RMSE 0.95\n",
      "Epoch 80 RMSE 0.94\n",
      "Epoch 90 RMSE 0.94\n",
      "Epoch 100 RMSE 0.94\n"
     ]
    },
    {
     "data": {
      "text/plain": [
       "{'w': array([[-1.06702020e-05],\n",
       "        [-4.26909360e-02],\n",
       "        [-3.82408245e-02],\n",
       "        [-4.53180522e-02],\n",
       "        [ 2.09609534e-03],\n",
       "        [ 3.44497528e-02],\n",
       "        [ 5.42113449e-02],\n",
       "        [ 7.72243585e-03],\n",
       "        [-1.59042001e-01]]),\n",
       " 'Xmeans': array([10.2909501 , 17.63310269,  2.9487912 ,  0.79909528,  0.82770661,\n",
       "         0.29674253,  0.02790513,  8.24348999]),\n",
       " 'Xstds': array([ 9.59225991, 10.64262623,  9.09179158,  0.45833066,  0.12976821,\n",
       "         0.17032268,  0.12258861,  3.10079319]),\n",
       " 'Tmeans': array([8.40416781e-05]),\n",
       " 'Tstds': array([3.46255837])}"
      ]
     },
     "execution_count": 114,
     "metadata": {},
     "output_type": "execute_result"
    }
   ],
   "source": [
    "X = df.iloc[:-1, 3:].values\n",
    "T = df.iloc[:, 3:4].values\n",
    "\n",
    "T_new = T[1:, :] -  T[:-1, :]\n",
    "X.shape, T.shape\n",
    "#new1_df = pandas.DataFrame(X,columns=Xnames)    #list(['Weights', 'as']))\n",
    "#T_df = pandas.DataFrame(T)  #,columns=Xnames)    #list(['Weights', 'as']))\n",
    "#out = pandas.concat([new1_df, T_df], axis=1, sort=False)\n",
    "#out\n",
    "#X[1:, 0:1],  X[:-1, 0:1]\n",
    "model_new = train(X, T_new, 0.000001, 100, verbose=True)\n",
    "model_new"
   ]
  },
  {
   "cell_type": "markdown",
   "metadata": {},
   "source": [
    "Now repeat the training experiments to pick good `learning_rate` and\n",
    "`n_epochs`.  Use predicted values to produce next day tave values by\n",
    "adding the predicted values to the previous day's tave.  Use `rmse`\n",
    "to determine if this way of predicting next tave is better than\n",
    "directly predicting tave."
   ]
  },
  {
   "cell_type": "code",
   "execution_count": 115,
   "metadata": {},
   "outputs": [
    {
     "data": {
      "text/plain": [
       "((7294, 8), (8,))"
      ]
     },
     "execution_count": 115,
     "metadata": {},
     "output_type": "execute_result"
    }
   ],
   "source": [
    "X.shape , model_new['Xmeans'].shape"
   ]
  },
  {
   "cell_type": "code",
   "execution_count": 116,
   "metadata": {},
   "outputs": [
    {
     "data": {
      "text/plain": [
       "(7294, 8)"
      ]
     },
     "execution_count": 116,
     "metadata": {},
     "output_type": "execute_result"
    }
   ],
   "source": [
    "X = (X - model_new['Xmeans']) / model_new['Xstds']\n",
    "X.shape"
   ]
  },
  {
   "cell_type": "code",
   "execution_count": 117,
   "metadata": {},
   "outputs": [
    {
     "data": {
      "text/plain": [
       "(9, 1)"
      ]
     },
     "execution_count": 117,
     "metadata": {},
     "output_type": "execute_result"
    }
   ],
   "source": [
    "w = model_new['w']\n",
    "w.shape"
   ]
  },
  {
   "cell_type": "code",
   "execution_count": 118,
   "metadata": {},
   "outputs": [],
   "source": [
    "X = np.insert(X, 0, 1, 1)\n"
   ]
  },
  {
   "cell_type": "code",
   "execution_count": 119,
   "metadata": {},
   "outputs": [
    {
     "data": {
      "text/plain": [
       "array([[ 0.00885695],\n",
       "       [ 0.14045041],\n",
       "       [-0.01793211],\n",
       "       ...,\n",
       "       [ 0.02909102],\n",
       "       [ 0.32928848],\n",
       "       [ 0.14087619]])"
      ]
     },
     "execution_count": 119,
     "metadata": {},
     "output_type": "execute_result"
    }
   ],
   "source": [
    "out = X @ w\n",
    "out"
   ]
  },
  {
   "cell_type": "code",
   "execution_count": 120,
   "metadata": {},
   "outputs": [
    {
     "data": {
      "text/plain": [
       "array([[ 3.53325203],\n",
       "       [ 0.43785424],\n",
       "       [-4.39553491],\n",
       "       ...,\n",
       "       [ 2.54411234],\n",
       "       [ 1.68954863],\n",
       "       [ 5.06591443]])"
      ]
     },
     "execution_count": 120,
     "metadata": {},
     "output_type": "execute_result"
    }
   ],
   "source": [
    "# Unstandardize the predicted output values using Tmeans and Tstds in model\n",
    "# Predict output values using weights in model\n",
    "# Return the unstandardized output values\n",
    "out = ((out*model['Tstds']) + model['Tmeans']) + T[:-1,:]\n",
    "out\n"
   ]
  },
  {
   "cell_type": "code",
   "execution_count": 121,
   "metadata": {},
   "outputs": [
    {
     "data": {
      "text/plain": [
       "1.1795951273861334"
      ]
     },
     "execution_count": 121,
     "metadata": {},
     "output_type": "execute_result"
    }
   ],
   "source": [
    "rmse(old_pred,out)"
   ]
  },
  {
   "cell_type": "code",
   "execution_count": null,
   "metadata": {},
   "outputs": [],
   "source": []
  }
 ],
 "metadata": {
  "jupytext": {
   "formats": "ipynb,py"
  },
  "kernelspec": {
   "display_name": "Python 3",
   "language": "python",
   "name": "python3"
  },
  "language_info": {
   "codemirror_mode": {
    "name": "ipython",
    "version": 3
   },
   "file_extension": ".py",
   "mimetype": "text/x-python",
   "name": "python",
   "nbconvert_exporter": "python",
   "pygments_lexer": "ipython3",
   "version": "3.7.3"
  }
 },
 "nbformat": 4,
 "nbformat_minor": 2
}
